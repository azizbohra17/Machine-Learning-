{
  "nbformat": 4,
  "nbformat_minor": 0,
  "metadata": {
    "kernelspec": {
      "display_name": "Python 3",
      "language": "python",
      "name": "python3"
    },
    "language_info": {
      "codemirror_mode": {
        "name": "ipython",
        "version": 3
      },
      "file_extension": ".py",
      "mimetype": "text/x-python",
      "name": "python",
      "nbconvert_exporter": "python",
      "pygments_lexer": "ipython3",
      "version": "3.7.6"
    },
    "papermill": {
      "duration": 12.692849,
      "end_time": "2020-12-23T19:38:41.525060",
      "environment_variables": {},
      "exception": null,
      "input_path": "__notebook__.ipynb",
      "output_path": "__notebook__.ipynb",
      "parameters": {},
      "start_time": "2020-12-23T19:38:28.832211",
      "version": "2.1.0"
    },
    "colab": {
      "name": "breast-cancer-prediction-wisconsin.ipynb",
      "provenance": [],
      "collapsed_sections": []
    }
  },
  "cells": [
    {
      "cell_type": "code",
      "metadata": {
        "_cell_guid": "b1076dfc-b9ad-4769-8c92-a6c4dae69d19",
        "_uuid": "8f2839f25d086af736a60e9eeb907d3b93b6e0e5",
        "execution": {
          "iopub.execute_input": "2020-12-23T19:38:33.602607Z",
          "iopub.status.busy": "2020-12-23T19:38:33.601962Z",
          "iopub.status.idle": "2020-12-23T19:38:33.615690Z",
          "shell.execute_reply": "2020-12-23T19:38:33.614696Z"
        },
        "papermill": {
          "duration": 0.03203,
          "end_time": "2020-12-23T19:38:33.615846",
          "exception": false,
          "start_time": "2020-12-23T19:38:33.583816",
          "status": "completed"
        },
        "tags": [],
        "id": "kLzt8MkCDU5m",
        "outputId": "dc5d9c74-ce07-40c1-d0ad-692662bd5e79"
      },
      "source": [
        "import numpy as np # linear algebra\n",
        "import pandas as pd # data processing, CSV file I/O (e.g. pd.read_csv)\n",
        "\n",
        "# Input data files are available in the read-only \"../input/\" directory\n",
        "# For example, running this (by clicking run or pressing Shift+Enter) will list all files under the input directory\n",
        "\n",
        "import os\n",
        "for dirname, _, filenames in os.walk('/kaggle/input'):\n",
        "    for filename in filenames:\n",
        "        print(os.path.join(dirname, filename))"
      ],
      "execution_count": null,
      "outputs": [
        {
          "output_type": "stream",
          "text": [
            "/kaggle/input/breast-cancer-wisconsin-data/data.csv\n"
          ],
          "name": "stdout"
        }
      ]
    },
    {
      "cell_type": "code",
      "metadata": {
        "_cell_guid": "79c7e3d0-c299-4dcb-8224-4455121ee9b0",
        "_uuid": "d629ff2d2480ee46fbb7e2d37f6b5fab8052498a",
        "execution": {
          "iopub.execute_input": "2020-12-23T19:38:33.643393Z",
          "iopub.status.busy": "2020-12-23T19:38:33.642750Z",
          "iopub.status.idle": "2020-12-23T19:38:33.704486Z",
          "shell.execute_reply": "2020-12-23T19:38:33.705005Z"
        },
        "papermill": {
          "duration": 0.078221,
          "end_time": "2020-12-23T19:38:33.705150",
          "exception": false,
          "start_time": "2020-12-23T19:38:33.626929",
          "status": "completed"
        },
        "tags": [],
        "id": "crWWWksZDU5t",
        "outputId": "99115dd6-6fa0-4438-ca33-95c2cfb1497a"
      },
      "source": [
        "# reading the datset\n",
        "data = pd.read_csv('/kaggle/input/breast-cancer-wisconsin-data/data.csv')\n",
        "data.head(110)"
      ],
      "execution_count": null,
      "outputs": [
        {
          "output_type": "execute_result",
          "data": {
            "text/html": [
              "<div>\n",
              "<style scoped>\n",
              "    .dataframe tbody tr th:only-of-type {\n",
              "        vertical-align: middle;\n",
              "    }\n",
              "\n",
              "    .dataframe tbody tr th {\n",
              "        vertical-align: top;\n",
              "    }\n",
              "\n",
              "    .dataframe thead th {\n",
              "        text-align: right;\n",
              "    }\n",
              "</style>\n",
              "<table border=\"1\" class=\"dataframe\">\n",
              "  <thead>\n",
              "    <tr style=\"text-align: right;\">\n",
              "      <th></th>\n",
              "      <th>id</th>\n",
              "      <th>diagnosis</th>\n",
              "      <th>radius_mean</th>\n",
              "      <th>texture_mean</th>\n",
              "      <th>perimeter_mean</th>\n",
              "      <th>area_mean</th>\n",
              "      <th>smoothness_mean</th>\n",
              "      <th>compactness_mean</th>\n",
              "      <th>concavity_mean</th>\n",
              "      <th>concave points_mean</th>\n",
              "      <th>...</th>\n",
              "      <th>texture_worst</th>\n",
              "      <th>perimeter_worst</th>\n",
              "      <th>area_worst</th>\n",
              "      <th>smoothness_worst</th>\n",
              "      <th>compactness_worst</th>\n",
              "      <th>concavity_worst</th>\n",
              "      <th>concave points_worst</th>\n",
              "      <th>symmetry_worst</th>\n",
              "      <th>fractal_dimension_worst</th>\n",
              "      <th>Unnamed: 32</th>\n",
              "    </tr>\n",
              "  </thead>\n",
              "  <tbody>\n",
              "    <tr>\n",
              "      <th>0</th>\n",
              "      <td>842302</td>\n",
              "      <td>M</td>\n",
              "      <td>17.99</td>\n",
              "      <td>10.38</td>\n",
              "      <td>122.80</td>\n",
              "      <td>1001.0</td>\n",
              "      <td>0.11840</td>\n",
              "      <td>0.27760</td>\n",
              "      <td>0.30010</td>\n",
              "      <td>0.14710</td>\n",
              "      <td>...</td>\n",
              "      <td>17.33</td>\n",
              "      <td>184.60</td>\n",
              "      <td>2019.0</td>\n",
              "      <td>0.1622</td>\n",
              "      <td>0.6656</td>\n",
              "      <td>0.7119</td>\n",
              "      <td>0.26540</td>\n",
              "      <td>0.4601</td>\n",
              "      <td>0.11890</td>\n",
              "      <td>NaN</td>\n",
              "    </tr>\n",
              "    <tr>\n",
              "      <th>1</th>\n",
              "      <td>842517</td>\n",
              "      <td>M</td>\n",
              "      <td>20.57</td>\n",
              "      <td>17.77</td>\n",
              "      <td>132.90</td>\n",
              "      <td>1326.0</td>\n",
              "      <td>0.08474</td>\n",
              "      <td>0.07864</td>\n",
              "      <td>0.08690</td>\n",
              "      <td>0.07017</td>\n",
              "      <td>...</td>\n",
              "      <td>23.41</td>\n",
              "      <td>158.80</td>\n",
              "      <td>1956.0</td>\n",
              "      <td>0.1238</td>\n",
              "      <td>0.1866</td>\n",
              "      <td>0.2416</td>\n",
              "      <td>0.18600</td>\n",
              "      <td>0.2750</td>\n",
              "      <td>0.08902</td>\n",
              "      <td>NaN</td>\n",
              "    </tr>\n",
              "    <tr>\n",
              "      <th>2</th>\n",
              "      <td>84300903</td>\n",
              "      <td>M</td>\n",
              "      <td>19.69</td>\n",
              "      <td>21.25</td>\n",
              "      <td>130.00</td>\n",
              "      <td>1203.0</td>\n",
              "      <td>0.10960</td>\n",
              "      <td>0.15990</td>\n",
              "      <td>0.19740</td>\n",
              "      <td>0.12790</td>\n",
              "      <td>...</td>\n",
              "      <td>25.53</td>\n",
              "      <td>152.50</td>\n",
              "      <td>1709.0</td>\n",
              "      <td>0.1444</td>\n",
              "      <td>0.4245</td>\n",
              "      <td>0.4504</td>\n",
              "      <td>0.24300</td>\n",
              "      <td>0.3613</td>\n",
              "      <td>0.08758</td>\n",
              "      <td>NaN</td>\n",
              "    </tr>\n",
              "    <tr>\n",
              "      <th>3</th>\n",
              "      <td>84348301</td>\n",
              "      <td>M</td>\n",
              "      <td>11.42</td>\n",
              "      <td>20.38</td>\n",
              "      <td>77.58</td>\n",
              "      <td>386.1</td>\n",
              "      <td>0.14250</td>\n",
              "      <td>0.28390</td>\n",
              "      <td>0.24140</td>\n",
              "      <td>0.10520</td>\n",
              "      <td>...</td>\n",
              "      <td>26.50</td>\n",
              "      <td>98.87</td>\n",
              "      <td>567.7</td>\n",
              "      <td>0.2098</td>\n",
              "      <td>0.8663</td>\n",
              "      <td>0.6869</td>\n",
              "      <td>0.25750</td>\n",
              "      <td>0.6638</td>\n",
              "      <td>0.17300</td>\n",
              "      <td>NaN</td>\n",
              "    </tr>\n",
              "    <tr>\n",
              "      <th>4</th>\n",
              "      <td>84358402</td>\n",
              "      <td>M</td>\n",
              "      <td>20.29</td>\n",
              "      <td>14.34</td>\n",
              "      <td>135.10</td>\n",
              "      <td>1297.0</td>\n",
              "      <td>0.10030</td>\n",
              "      <td>0.13280</td>\n",
              "      <td>0.19800</td>\n",
              "      <td>0.10430</td>\n",
              "      <td>...</td>\n",
              "      <td>16.67</td>\n",
              "      <td>152.20</td>\n",
              "      <td>1575.0</td>\n",
              "      <td>0.1374</td>\n",
              "      <td>0.2050</td>\n",
              "      <td>0.4000</td>\n",
              "      <td>0.16250</td>\n",
              "      <td>0.2364</td>\n",
              "      <td>0.07678</td>\n",
              "      <td>NaN</td>\n",
              "    </tr>\n",
              "    <tr>\n",
              "      <th>...</th>\n",
              "      <td>...</td>\n",
              "      <td>...</td>\n",
              "      <td>...</td>\n",
              "      <td>...</td>\n",
              "      <td>...</td>\n",
              "      <td>...</td>\n",
              "      <td>...</td>\n",
              "      <td>...</td>\n",
              "      <td>...</td>\n",
              "      <td>...</td>\n",
              "      <td>...</td>\n",
              "      <td>...</td>\n",
              "      <td>...</td>\n",
              "      <td>...</td>\n",
              "      <td>...</td>\n",
              "      <td>...</td>\n",
              "      <td>...</td>\n",
              "      <td>...</td>\n",
              "      <td>...</td>\n",
              "      <td>...</td>\n",
              "      <td>...</td>\n",
              "    </tr>\n",
              "    <tr>\n",
              "      <th>105</th>\n",
              "      <td>863030</td>\n",
              "      <td>M</td>\n",
              "      <td>13.11</td>\n",
              "      <td>15.56</td>\n",
              "      <td>87.21</td>\n",
              "      <td>530.2</td>\n",
              "      <td>0.13980</td>\n",
              "      <td>0.17650</td>\n",
              "      <td>0.20710</td>\n",
              "      <td>0.09601</td>\n",
              "      <td>...</td>\n",
              "      <td>22.40</td>\n",
              "      <td>106.40</td>\n",
              "      <td>827.2</td>\n",
              "      <td>0.1862</td>\n",
              "      <td>0.4099</td>\n",
              "      <td>0.6376</td>\n",
              "      <td>0.19860</td>\n",
              "      <td>0.3147</td>\n",
              "      <td>0.14050</td>\n",
              "      <td>NaN</td>\n",
              "    </tr>\n",
              "    <tr>\n",
              "      <th>106</th>\n",
              "      <td>863031</td>\n",
              "      <td>B</td>\n",
              "      <td>11.64</td>\n",
              "      <td>18.33</td>\n",
              "      <td>75.17</td>\n",
              "      <td>412.5</td>\n",
              "      <td>0.11420</td>\n",
              "      <td>0.10170</td>\n",
              "      <td>0.07070</td>\n",
              "      <td>0.03485</td>\n",
              "      <td>...</td>\n",
              "      <td>29.26</td>\n",
              "      <td>85.51</td>\n",
              "      <td>521.7</td>\n",
              "      <td>0.1688</td>\n",
              "      <td>0.2660</td>\n",
              "      <td>0.2873</td>\n",
              "      <td>0.12180</td>\n",
              "      <td>0.2806</td>\n",
              "      <td>0.09097</td>\n",
              "      <td>NaN</td>\n",
              "    </tr>\n",
              "    <tr>\n",
              "      <th>107</th>\n",
              "      <td>863270</td>\n",
              "      <td>B</td>\n",
              "      <td>12.36</td>\n",
              "      <td>18.54</td>\n",
              "      <td>79.01</td>\n",
              "      <td>466.7</td>\n",
              "      <td>0.08477</td>\n",
              "      <td>0.06815</td>\n",
              "      <td>0.02643</td>\n",
              "      <td>0.01921</td>\n",
              "      <td>...</td>\n",
              "      <td>27.49</td>\n",
              "      <td>85.56</td>\n",
              "      <td>544.1</td>\n",
              "      <td>0.1184</td>\n",
              "      <td>0.1963</td>\n",
              "      <td>0.1937</td>\n",
              "      <td>0.08442</td>\n",
              "      <td>0.2983</td>\n",
              "      <td>0.07185</td>\n",
              "      <td>NaN</td>\n",
              "    </tr>\n",
              "    <tr>\n",
              "      <th>108</th>\n",
              "      <td>86355</td>\n",
              "      <td>M</td>\n",
              "      <td>22.27</td>\n",
              "      <td>19.67</td>\n",
              "      <td>152.80</td>\n",
              "      <td>1509.0</td>\n",
              "      <td>0.13260</td>\n",
              "      <td>0.27680</td>\n",
              "      <td>0.42640</td>\n",
              "      <td>0.18230</td>\n",
              "      <td>...</td>\n",
              "      <td>28.01</td>\n",
              "      <td>206.80</td>\n",
              "      <td>2360.0</td>\n",
              "      <td>0.1701</td>\n",
              "      <td>0.6997</td>\n",
              "      <td>0.9608</td>\n",
              "      <td>0.29100</td>\n",
              "      <td>0.4055</td>\n",
              "      <td>0.09789</td>\n",
              "      <td>NaN</td>\n",
              "    </tr>\n",
              "    <tr>\n",
              "      <th>109</th>\n",
              "      <td>864018</td>\n",
              "      <td>B</td>\n",
              "      <td>11.34</td>\n",
              "      <td>21.26</td>\n",
              "      <td>72.48</td>\n",
              "      <td>396.5</td>\n",
              "      <td>0.08759</td>\n",
              "      <td>0.06575</td>\n",
              "      <td>0.05133</td>\n",
              "      <td>0.01899</td>\n",
              "      <td>...</td>\n",
              "      <td>29.15</td>\n",
              "      <td>83.99</td>\n",
              "      <td>518.1</td>\n",
              "      <td>0.1699</td>\n",
              "      <td>0.2196</td>\n",
              "      <td>0.3120</td>\n",
              "      <td>0.08278</td>\n",
              "      <td>0.2829</td>\n",
              "      <td>0.08832</td>\n",
              "      <td>NaN</td>\n",
              "    </tr>\n",
              "  </tbody>\n",
              "</table>\n",
              "<p>110 rows × 33 columns</p>\n",
              "</div>"
            ],
            "text/plain": [
              "           id diagnosis  radius_mean  texture_mean  perimeter_mean  area_mean  \\\n",
              "0      842302         M        17.99         10.38          122.80     1001.0   \n",
              "1      842517         M        20.57         17.77          132.90     1326.0   \n",
              "2    84300903         M        19.69         21.25          130.00     1203.0   \n",
              "3    84348301         M        11.42         20.38           77.58      386.1   \n",
              "4    84358402         M        20.29         14.34          135.10     1297.0   \n",
              "..        ...       ...          ...           ...             ...        ...   \n",
              "105    863030         M        13.11         15.56           87.21      530.2   \n",
              "106    863031         B        11.64         18.33           75.17      412.5   \n",
              "107    863270         B        12.36         18.54           79.01      466.7   \n",
              "108     86355         M        22.27         19.67          152.80     1509.0   \n",
              "109    864018         B        11.34         21.26           72.48      396.5   \n",
              "\n",
              "     smoothness_mean  compactness_mean  concavity_mean  concave points_mean  \\\n",
              "0            0.11840           0.27760         0.30010              0.14710   \n",
              "1            0.08474           0.07864         0.08690              0.07017   \n",
              "2            0.10960           0.15990         0.19740              0.12790   \n",
              "3            0.14250           0.28390         0.24140              0.10520   \n",
              "4            0.10030           0.13280         0.19800              0.10430   \n",
              "..               ...               ...             ...                  ...   \n",
              "105          0.13980           0.17650         0.20710              0.09601   \n",
              "106          0.11420           0.10170         0.07070              0.03485   \n",
              "107          0.08477           0.06815         0.02643              0.01921   \n",
              "108          0.13260           0.27680         0.42640              0.18230   \n",
              "109          0.08759           0.06575         0.05133              0.01899   \n",
              "\n",
              "     ...  texture_worst  perimeter_worst  area_worst  smoothness_worst  \\\n",
              "0    ...          17.33           184.60      2019.0            0.1622   \n",
              "1    ...          23.41           158.80      1956.0            0.1238   \n",
              "2    ...          25.53           152.50      1709.0            0.1444   \n",
              "3    ...          26.50            98.87       567.7            0.2098   \n",
              "4    ...          16.67           152.20      1575.0            0.1374   \n",
              "..   ...            ...              ...         ...               ...   \n",
              "105  ...          22.40           106.40       827.2            0.1862   \n",
              "106  ...          29.26            85.51       521.7            0.1688   \n",
              "107  ...          27.49            85.56       544.1            0.1184   \n",
              "108  ...          28.01           206.80      2360.0            0.1701   \n",
              "109  ...          29.15            83.99       518.1            0.1699   \n",
              "\n",
              "     compactness_worst  concavity_worst  concave points_worst  symmetry_worst  \\\n",
              "0               0.6656           0.7119               0.26540          0.4601   \n",
              "1               0.1866           0.2416               0.18600          0.2750   \n",
              "2               0.4245           0.4504               0.24300          0.3613   \n",
              "3               0.8663           0.6869               0.25750          0.6638   \n",
              "4               0.2050           0.4000               0.16250          0.2364   \n",
              "..                 ...              ...                   ...             ...   \n",
              "105             0.4099           0.6376               0.19860          0.3147   \n",
              "106             0.2660           0.2873               0.12180          0.2806   \n",
              "107             0.1963           0.1937               0.08442          0.2983   \n",
              "108             0.6997           0.9608               0.29100          0.4055   \n",
              "109             0.2196           0.3120               0.08278          0.2829   \n",
              "\n",
              "     fractal_dimension_worst  Unnamed: 32  \n",
              "0                    0.11890          NaN  \n",
              "1                    0.08902          NaN  \n",
              "2                    0.08758          NaN  \n",
              "3                    0.17300          NaN  \n",
              "4                    0.07678          NaN  \n",
              "..                       ...          ...  \n",
              "105                  0.14050          NaN  \n",
              "106                  0.09097          NaN  \n",
              "107                  0.07185          NaN  \n",
              "108                  0.09789          NaN  \n",
              "109                  0.08832          NaN  \n",
              "\n",
              "[110 rows x 33 columns]"
            ]
          },
          "metadata": {
            "tags": []
          },
          "execution_count": 2
        }
      ]
    },
    {
      "cell_type": "code",
      "metadata": {
        "execution": {
          "iopub.execute_input": "2020-12-23T19:38:33.743062Z",
          "iopub.status.busy": "2020-12-23T19:38:33.731831Z",
          "iopub.status.idle": "2020-12-23T19:38:33.747349Z",
          "shell.execute_reply": "2020-12-23T19:38:33.746761Z"
        },
        "papermill": {
          "duration": 0.031679,
          "end_time": "2020-12-23T19:38:33.747470",
          "exception": false,
          "start_time": "2020-12-23T19:38:33.715791",
          "status": "completed"
        },
        "tags": [],
        "id": "-f62AwanDU5u",
        "outputId": "8e62013d-97d4-4b01-c731-e5f0fc55aa5e"
      },
      "source": [
        "# getting the whole information about the dataset\n",
        "data.info()"
      ],
      "execution_count": null,
      "outputs": [
        {
          "output_type": "stream",
          "text": [
            "<class 'pandas.core.frame.DataFrame'>\n",
            "RangeIndex: 569 entries, 0 to 568\n",
            "Data columns (total 33 columns):\n",
            " #   Column                   Non-Null Count  Dtype  \n",
            "---  ------                   --------------  -----  \n",
            " 0   id                       569 non-null    int64  \n",
            " 1   diagnosis                569 non-null    object \n",
            " 2   radius_mean              569 non-null    float64\n",
            " 3   texture_mean             569 non-null    float64\n",
            " 4   perimeter_mean           569 non-null    float64\n",
            " 5   area_mean                569 non-null    float64\n",
            " 6   smoothness_mean          569 non-null    float64\n",
            " 7   compactness_mean         569 non-null    float64\n",
            " 8   concavity_mean           569 non-null    float64\n",
            " 9   concave points_mean      569 non-null    float64\n",
            " 10  symmetry_mean            569 non-null    float64\n",
            " 11  fractal_dimension_mean   569 non-null    float64\n",
            " 12  radius_se                569 non-null    float64\n",
            " 13  texture_se               569 non-null    float64\n",
            " 14  perimeter_se             569 non-null    float64\n",
            " 15  area_se                  569 non-null    float64\n",
            " 16  smoothness_se            569 non-null    float64\n",
            " 17  compactness_se           569 non-null    float64\n",
            " 18  concavity_se             569 non-null    float64\n",
            " 19  concave points_se        569 non-null    float64\n",
            " 20  symmetry_se              569 non-null    float64\n",
            " 21  fractal_dimension_se     569 non-null    float64\n",
            " 22  radius_worst             569 non-null    float64\n",
            " 23  texture_worst            569 non-null    float64\n",
            " 24  perimeter_worst          569 non-null    float64\n",
            " 25  area_worst               569 non-null    float64\n",
            " 26  smoothness_worst         569 non-null    float64\n",
            " 27  compactness_worst        569 non-null    float64\n",
            " 28  concavity_worst          569 non-null    float64\n",
            " 29  concave points_worst     569 non-null    float64\n",
            " 30  symmetry_worst           569 non-null    float64\n",
            " 31  fractal_dimension_worst  569 non-null    float64\n",
            " 32  Unnamed: 32              0 non-null      float64\n",
            "dtypes: float64(31), int64(1), object(1)\n",
            "memory usage: 146.8+ KB\n"
          ],
          "name": "stdout"
        }
      ]
    },
    {
      "cell_type": "code",
      "metadata": {
        "execution": {
          "iopub.execute_input": "2020-12-23T19:38:33.777928Z",
          "iopub.status.busy": "2020-12-23T19:38:33.776910Z",
          "iopub.status.idle": "2020-12-23T19:38:33.779908Z",
          "shell.execute_reply": "2020-12-23T19:38:33.780370Z"
        },
        "papermill": {
          "duration": 0.021928,
          "end_time": "2020-12-23T19:38:33.780529",
          "exception": false,
          "start_time": "2020-12-23T19:38:33.758601",
          "status": "completed"
        },
        "tags": [],
        "id": "T5BZULweDU5u"
      },
      "source": [
        "# dropping unnecessary columns\n",
        "data.drop('id', axis=1, inplace=True)\n",
        "data.drop('Unnamed: 32', axis=1, inplace=True)"
      ],
      "execution_count": null,
      "outputs": []
    },
    {
      "cell_type": "code",
      "metadata": {
        "execution": {
          "iopub.execute_input": "2020-12-23T19:38:33.808346Z",
          "iopub.status.busy": "2020-12-23T19:38:33.807588Z",
          "iopub.status.idle": "2020-12-23T19:38:38.341693Z",
          "shell.execute_reply": "2020-12-23T19:38:38.342204Z"
        },
        "papermill": {
          "duration": 4.550633,
          "end_time": "2020-12-23T19:38:38.342349",
          "exception": false,
          "start_time": "2020-12-23T19:38:33.791716",
          "status": "completed"
        },
        "tags": [],
        "id": "BkqrSS4ADU5v",
        "outputId": "4a198840-1422-4d13-e822-da190df78472"
      },
      "source": [
        "# visualizing the distribution of all the features of the dataset\n",
        "import matplotlib.pyplot as plt\n",
        "data.hist(edgecolor='black', linewidth=1.2)\n",
        "fig = plt.gcf()\n",
        "fig.set_size_inches(25,18)\n",
        "plt.show"
      ],
      "execution_count": null,
      "outputs": [
        {
          "output_type": "execute_result",
          "data": {
            "text/plain": [
              "<function matplotlib.pyplot.show(*args, **kw)>"
            ]
          },
          "metadata": {
            "tags": []
          },
          "execution_count": 5
        },
        {
          "output_type": "display_data",
          "data": {
            "image/png": "[encoded data removed]",
            "text/plain": [
              "<Figure size 1800x1296 with 30 Axes>"
            ]
          },
          "metadata": {
            "tags": [],
            "needs_background": "light"
          }
        }
      ]
    },
    {
      "cell_type": "code",
      "metadata": {
        "execution": {
          "iopub.execute_input": "2020-12-23T19:38:38.396047Z",
          "iopub.status.busy": "2020-12-23T19:38:38.385737Z",
          "iopub.status.idle": "2020-12-23T19:38:38.404497Z",
          "shell.execute_reply": "2020-12-23T19:38:38.403853Z"
        },
        "papermill": {
          "duration": 0.04769,
          "end_time": "2020-12-23T19:38:38.404607",
          "exception": false,
          "start_time": "2020-12-23T19:38:38.356917",
          "status": "completed"
        },
        "tags": [],
        "id": "Ah4J5eIeDU5v",
        "outputId": "6f80ffe8-baea-4a68-e844-484eb191b3b4"
      },
      "source": [
        "# mapping Malignant(M) to 1 and Benign(B) to 0\n",
        "data['diagnosis'] = data['diagnosis'].map({'M':1, 'B':0})\n",
        "data.head()"
      ],
      "execution_count": null,
      "outputs": [
        {
          "output_type": "execute_result",
          "data": {
            "text/html": [
              "<div>\n",
              "<style scoped>\n",
              "    .dataframe tbody tr th:only-of-type {\n",
              "        vertical-align: middle;\n",
              "    }\n",
              "\n",
              "    .dataframe tbody tr th {\n",
              "        vertical-align: top;\n",
              "    }\n",
              "\n",
              "    .dataframe thead th {\n",
              "        text-align: right;\n",
              "    }\n",
              "</style>\n",
              "<table border=\"1\" class=\"dataframe\">\n",
              "  <thead>\n",
              "    <tr style=\"text-align: right;\">\n",
              "      <th></th>\n",
              "      <th>diagnosis</th>\n",
              "      <th>radius_mean</th>\n",
              "      <th>texture_mean</th>\n",
              "      <th>perimeter_mean</th>\n",
              "      <th>area_mean</th>\n",
              "      <th>smoothness_mean</th>\n",
              "      <th>compactness_mean</th>\n",
              "      <th>concavity_mean</th>\n",
              "      <th>concave points_mean</th>\n",
              "      <th>symmetry_mean</th>\n",
              "      <th>...</th>\n",
              "      <th>radius_worst</th>\n",
              "      <th>texture_worst</th>\n",
              "      <th>perimeter_worst</th>\n",
              "      <th>area_worst</th>\n",
              "      <th>smoothness_worst</th>\n",
              "      <th>compactness_worst</th>\n",
              "      <th>concavity_worst</th>\n",
              "      <th>concave points_worst</th>\n",
              "      <th>symmetry_worst</th>\n",
              "      <th>fractal_dimension_worst</th>\n",
              "    </tr>\n",
              "  </thead>\n",
              "  <tbody>\n",
              "    <tr>\n",
              "      <th>0</th>\n",
              "      <td>1</td>\n",
              "      <td>17.99</td>\n",
              "      <td>10.38</td>\n",
              "      <td>122.80</td>\n",
              "      <td>1001.0</td>\n",
              "      <td>0.11840</td>\n",
              "      <td>0.27760</td>\n",
              "      <td>0.3001</td>\n",
              "      <td>0.14710</td>\n",
              "      <td>0.2419</td>\n",
              "      <td>...</td>\n",
              "      <td>25.38</td>\n",
              "      <td>17.33</td>\n",
              "      <td>184.60</td>\n",
              "      <td>2019.0</td>\n",
              "      <td>0.1622</td>\n",
              "      <td>0.6656</td>\n",
              "      <td>0.7119</td>\n",
              "      <td>0.2654</td>\n",
              "      <td>0.4601</td>\n",
              "      <td>0.11890</td>\n",
              "    </tr>\n",
              "    <tr>\n",
              "      <th>1</th>\n",
              "      <td>1</td>\n",
              "      <td>20.57</td>\n",
              "      <td>17.77</td>\n",
              "      <td>132.90</td>\n",
              "      <td>1326.0</td>\n",
              "      <td>0.08474</td>\n",
              "      <td>0.07864</td>\n",
              "      <td>0.0869</td>\n",
              "      <td>0.07017</td>\n",
              "      <td>0.1812</td>\n",
              "      <td>...</td>\n",
              "      <td>24.99</td>\n",
              "      <td>23.41</td>\n",
              "      <td>158.80</td>\n",
              "      <td>1956.0</td>\n",
              "      <td>0.1238</td>\n",
              "      <td>0.1866</td>\n",
              "      <td>0.2416</td>\n",
              "      <td>0.1860</td>\n",
              "      <td>0.2750</td>\n",
              "      <td>0.08902</td>\n",
              "    </tr>\n",
              "    <tr>\n",
              "      <th>2</th>\n",
              "      <td>1</td>\n",
              "      <td>19.69</td>\n",
              "      <td>21.25</td>\n",
              "      <td>130.00</td>\n",
              "      <td>1203.0</td>\n",
              "      <td>0.10960</td>\n",
              "      <td>0.15990</td>\n",
              "      <td>0.1974</td>\n",
              "      <td>0.12790</td>\n",
              "      <td>0.2069</td>\n",
              "      <td>...</td>\n",
              "      <td>23.57</td>\n",
              "      <td>25.53</td>\n",
              "      <td>152.50</td>\n",
              "      <td>1709.0</td>\n",
              "      <td>0.1444</td>\n",
              "      <td>0.4245</td>\n",
              "      <td>0.4504</td>\n",
              "      <td>0.2430</td>\n",
              "      <td>0.3613</td>\n",
              "      <td>0.08758</td>\n",
              "    </tr>\n",
              "    <tr>\n",
              "      <th>3</th>\n",
              "      <td>1</td>\n",
              "      <td>11.42</td>\n",
              "      <td>20.38</td>\n",
              "      <td>77.58</td>\n",
              "      <td>386.1</td>\n",
              "      <td>0.14250</td>\n",
              "      <td>0.28390</td>\n",
              "      <td>0.2414</td>\n",
              "      <td>0.10520</td>\n",
              "      <td>0.2597</td>\n",
              "      <td>...</td>\n",
              "      <td>14.91</td>\n",
              "      <td>26.50</td>\n",
              "      <td>98.87</td>\n",
              "      <td>567.7</td>\n",
              "      <td>0.2098</td>\n",
              "      <td>0.8663</td>\n",
              "      <td>0.6869</td>\n",
              "      <td>0.2575</td>\n",
              "      <td>0.6638</td>\n",
              "      <td>0.17300</td>\n",
              "    </tr>\n",
              "    <tr>\n",
              "      <th>4</th>\n",
              "      <td>1</td>\n",
              "      <td>20.29</td>\n",
              "      <td>14.34</td>\n",
              "      <td>135.10</td>\n",
              "      <td>1297.0</td>\n",
              "      <td>0.10030</td>\n",
              "      <td>0.13280</td>\n",
              "      <td>0.1980</td>\n",
              "      <td>0.10430</td>\n",
              "      <td>0.1809</td>\n",
              "      <td>...</td>\n",
              "      <td>22.54</td>\n",
              "      <td>16.67</td>\n",
              "      <td>152.20</td>\n",
              "      <td>1575.0</td>\n",
              "      <td>0.1374</td>\n",
              "      <td>0.2050</td>\n",
              "      <td>0.4000</td>\n",
              "      <td>0.1625</td>\n",
              "      <td>0.2364</td>\n",
              "      <td>0.07678</td>\n",
              "    </tr>\n",
              "  </tbody>\n",
              "</table>\n",
              "<p>5 rows × 31 columns</p>\n",
              "</div>"
            ],
            "text/plain": [
              "   diagnosis  radius_mean  texture_mean  perimeter_mean  area_mean  \\\n",
              "0          1        17.99         10.38          122.80     1001.0   \n",
              "1          1        20.57         17.77          132.90     1326.0   \n",
              "2          1        19.69         21.25          130.00     1203.0   \n",
              "3          1        11.42         20.38           77.58      386.1   \n",
              "4          1        20.29         14.34          135.10     1297.0   \n",
              "\n",
              "   smoothness_mean  compactness_mean  concavity_mean  concave points_mean  \\\n",
              "0          0.11840           0.27760          0.3001              0.14710   \n",
              "1          0.08474           0.07864          0.0869              0.07017   \n",
              "2          0.10960           0.15990          0.1974              0.12790   \n",
              "3          0.14250           0.28390          0.2414              0.10520   \n",
              "4          0.10030           0.13280          0.1980              0.10430   \n",
              "\n",
              "   symmetry_mean  ...  radius_worst  texture_worst  perimeter_worst  \\\n",
              "0         0.2419  ...         25.38          17.33           184.60   \n",
              "1         0.1812  ...         24.99          23.41           158.80   \n",
              "2         0.2069  ...         23.57          25.53           152.50   \n",
              "3         0.2597  ...         14.91          26.50            98.87   \n",
              "4         0.1809  ...         22.54          16.67           152.20   \n",
              "\n",
              "   area_worst  smoothness_worst  compactness_worst  concavity_worst  \\\n",
              "0      2019.0            0.1622             0.6656           0.7119   \n",
              "1      1956.0            0.1238             0.1866           0.2416   \n",
              "2      1709.0            0.1444             0.4245           0.4504   \n",
              "3       567.7            0.2098             0.8663           0.6869   \n",
              "4      1575.0            0.1374             0.2050           0.4000   \n",
              "\n",
              "   concave points_worst  symmetry_worst  fractal_dimension_worst  \n",
              "0                0.2654          0.4601                  0.11890  \n",
              "1                0.1860          0.2750                  0.08902  \n",
              "2                0.2430          0.3613                  0.08758  \n",
              "3                0.2575          0.6638                  0.17300  \n",
              "4                0.1625          0.2364                  0.07678  \n",
              "\n",
              "[5 rows x 31 columns]"
            ]
          },
          "metadata": {
            "tags": []
          },
          "execution_count": 6
        }
      ]
    },
    {
      "cell_type": "code",
      "metadata": {
        "execution": {
          "iopub.execute_input": "2020-12-23T19:38:38.441154Z",
          "iopub.status.busy": "2020-12-23T19:38:38.440406Z",
          "iopub.status.idle": "2020-12-23T19:38:39.916692Z",
          "shell.execute_reply": "2020-12-23T19:38:39.917171Z"
        },
        "papermill": {
          "duration": 1.497073,
          "end_time": "2020-12-23T19:38:39.917320",
          "exception": false,
          "start_time": "2020-12-23T19:38:38.420247",
          "status": "completed"
        },
        "tags": [],
        "id": "k9aSV3RvDU5w",
        "outputId": "3a2cb89f-61c7-48ce-8969-48bef7608eee"
      },
      "source": [
        "# using heatmap getting an idea of correlation between the features of the dataset\n",
        "import seaborn as sns\n",
        "sns.set()\n",
        "\n",
        "sns.heatmap(data.corr())"
      ],
      "execution_count": null,
      "outputs": [
        {
          "output_type": "execute_result",
          "data": {
            "text/plain": [
              "<matplotlib.axes._subplots.AxesSubplot at 0x7f798823f910>"
            ]
          },
          "metadata": {
            "tags": []
          },
          "execution_count": 7
        },
        {
          "output_type": "display_data",
          "data": {
            "image/png": "[encoded data removed]",
            "text/plain": [
              "<Figure size 432x288 with 2 Axes>"
            ]
          },
          "metadata": {
            "tags": []
          }
        }
      ]
    },
    {
      "cell_type": "code",
      "metadata": {
        "execution": {
          "iopub.execute_input": "2020-12-23T19:38:39.957864Z",
          "iopub.status.busy": "2020-12-23T19:38:39.957190Z",
          "iopub.status.idle": "2020-12-23T19:38:39.959719Z",
          "shell.execute_reply": "2020-12-23T19:38:39.960203Z"
        },
        "papermill": {
          "duration": 0.025955,
          "end_time": "2020-12-23T19:38:39.960338",
          "exception": false,
          "start_time": "2020-12-23T19:38:39.934383",
          "status": "completed"
        },
        "tags": [],
        "id": "wRyRmouIDU5w"
      },
      "source": [
        "# separating Input Features and the Output in X and y respectively\n",
        "X = data.drop(columns=['diagnosis'])\n",
        "y = data['diagnosis']"
      ],
      "execution_count": null,
      "outputs": []
    },
    {
      "cell_type": "code",
      "metadata": {
        "execution": {
          "iopub.execute_input": "2020-12-23T19:38:40.000316Z",
          "iopub.status.busy": "2020-12-23T19:38:39.999622Z",
          "iopub.status.idle": "2020-12-23T19:38:40.120603Z",
          "shell.execute_reply": "2020-12-23T19:38:40.119911Z"
        },
        "papermill": {
          "duration": 0.142985,
          "end_time": "2020-12-23T19:38:40.120764",
          "exception": false,
          "start_time": "2020-12-23T19:38:39.977779",
          "status": "completed"
        },
        "tags": [],
        "id": "Ihygqlk_DU5w"
      },
      "source": [
        "# spliting the dataset into training and testing \n",
        "from sklearn.model_selection import train_test_split\n",
        "\n",
        "X_train, X_test, y_train, y_test = train_test_split(X, y, test_size=0.2)"
      ],
      "execution_count": null,
      "outputs": []
    },
    {
      "cell_type": "code",
      "metadata": {
        "execution": {
          "iopub.execute_input": "2020-12-23T19:38:40.165675Z",
          "iopub.status.busy": "2020-12-23T19:38:40.164584Z",
          "iopub.status.idle": "2020-12-23T19:38:40.197411Z",
          "shell.execute_reply": "2020-12-23T19:38:40.196871Z"
        },
        "papermill": {
          "duration": 0.059276,
          "end_time": "2020-12-23T19:38:40.197530",
          "exception": false,
          "start_time": "2020-12-23T19:38:40.138254",
          "status": "completed"
        },
        "tags": [],
        "id": "nJj13MQaDU5w",
        "outputId": "71cca9e7-3469-4483-e9b5-9f5b646b86f6"
      },
      "source": [
        "# scaling the Input features using StandardScaler \n",
        "from sklearn.preprocessing import StandardScaler\n",
        "std_scalar = StandardScaler()\n",
        "\n",
        "X_train_transformed = std_scalar.fit_transform(X_train)\n",
        "X_test_transformed = std_scalar.transform(X_test)\n",
        "\n",
        "# since scaling returns an array, we need to convert it back to Pandas DataFrame\n",
        "X_train_transformed = pd.DataFrame(X_train_transformed)\n",
        "X_test_transformed = pd.DataFrame(X_test_transformed)\n",
        "\n",
        "# in scaling column labels are lost, so we put back the labels using the Old X\n",
        "X_train_transformed.columns = X.columns\n",
        "X_test_transformed.columns = X.columns\n",
        "\n",
        "X_train_transformed, X_test_transformed"
      ],
      "execution_count": null,
      "outputs": [
        {
          "output_type": "execute_result",
          "data": {
            "text/plain": [
              "(     radius_mean  texture_mean  perimeter_mean  area_mean  smoothness_mean  \\\n",
              " 0      -0.110283     -0.850879       -0.083602  -0.218294         0.300118   \n",
              " 1      -1.115090      0.044331       -1.110951  -0.966209         0.271248   \n",
              " 2      -0.115804     -0.850879       -0.165949  -0.213351        -0.604245   \n",
              " 3       0.455611      1.071467        0.446863   0.326992        -0.904497   \n",
              " 4       0.024979     -0.608230       -0.088798  -0.085130        -2.327805   \n",
              " ..           ...           ...             ...        ...              ...   \n",
              " 450    -0.521592     -0.678905       -0.532917  -0.529101        -0.348021   \n",
              " 451    -0.725866     -0.085239       -0.732391  -0.697135        -0.799842   \n",
              " 452     1.109840     -0.125288        1.046483   0.997755         0.066269   \n",
              " 453    -1.079204      1.933695       -1.073375  -0.939576        -0.450511   \n",
              " 454    -0.482945     -0.872082       -0.397803  -0.512078         2.256084   \n",
              " \n",
              "      compactness_mean  concavity_mean  concave points_mean  symmetry_mean  \\\n",
              " 0            0.399378       -0.168640             0.010719      -0.570064   \n",
              " 1           -0.580991       -1.053591            -0.982798      -0.099401   \n",
              " 2           -0.726491       -0.986490            -1.013536      -1.507741   \n",
              " 3           -0.115242        0.092357             0.084862       0.104918   \n",
              " 4           -1.474912       -1.026569            -1.106202      -1.131940   \n",
              " ..                ...             ...                  ...            ...   \n",
              " 450         -0.705944       -0.705088            -0.692258      -0.358448   \n",
              " 451         -0.540636       -0.448463            -0.904382       0.776251   \n",
              " 452          0.097641        0.257773             0.734807      -0.041024   \n",
              " 453         -0.552483       -0.386037            -0.575137      -0.821814   \n",
              " 454          1.176861        0.801873             0.769742       0.980570   \n",
              " \n",
              "      fractal_dimension_mean  ...  radius_worst  texture_worst  \\\n",
              " 0                  0.374959  ...      0.039207      -0.821237   \n",
              " 1                  0.046195  ...     -1.153067      -0.484121   \n",
              " 2                 -0.629522  ...     -0.222610      -1.381984   \n",
              " 3                 -1.343011  ...      0.093584       0.313608   \n",
              " 4                 -1.289849  ...     -0.295113      -0.856284   \n",
              " ..                      ...  ...           ...            ...   \n",
              " 450               -0.537188  ...     -0.456231      -0.429048   \n",
              " 451               -0.043341  ...     -0.665685       0.200124   \n",
              " 452               -0.886937  ...      1.100573      -0.130316   \n",
              " 453               -0.239201  ...     -1.114801       1.523554   \n",
              " 454                1.839710  ...     -0.182330      -0.338928   \n",
              " \n",
              "      perimeter_worst  area_worst  smoothness_worst  compactness_worst  \\\n",
              " 0           0.064125   -0.141296          0.373108           0.608955   \n",
              " 1          -1.166269   -0.930348         -0.283418          -0.882870   \n",
              " 2          -0.295538   -0.320788         -1.151291          -0.965042   \n",
              " 3           0.113433   -0.032549         -0.885983          -0.421691   \n",
              " 4          -0.395895   -0.358112         -2.119443          -1.326469   \n",
              " ..               ...         ...               ...                ...   \n",
              " 450        -0.533089   -0.482806         -0.683629          -0.473287   \n",
              " 451        -0.628226   -0.636511         -0.355366          -0.413411   \n",
              " 452         0.951679    0.999784          0.476533           0.112741   \n",
              " 453        -1.117251   -0.912874          0.251696          -0.558007   \n",
              " 454        -0.136010   -0.261410          2.081874           1.696292   \n",
              " \n",
              "      concavity_worst  concave points_worst  symmetry_worst  \\\n",
              " 0           0.002984              0.325837       -0.525937   \n",
              " 1          -1.274586             -1.423635       -1.059208   \n",
              " 2          -1.154771             -1.260725       -1.716419   \n",
              " 3          -0.214992             -0.072388       -0.167162   \n",
              " 4          -1.138125             -1.257558       -0.739572   \n",
              " ..               ...                   ...             ...   \n",
              " 450        -0.510238             -0.454019       -0.478644   \n",
              " 451        -0.101473             -0.755101        0.201398   \n",
              " 452         0.515252              0.918648       -0.162270   \n",
              " 453        -0.368578             -0.383576       -1.117916   \n",
              " 454         1.231664              0.865853        1.750655   \n",
              " \n",
              "      fractal_dimension_worst  \n",
              " 0                   1.074304  \n",
              " 1                  -0.970419  \n",
              " 2                  -0.931340  \n",
              " 3                  -1.231899  \n",
              " 4                  -1.327871  \n",
              " ..                       ...  \n",
              " 450                -0.472168  \n",
              " 451                -0.084257  \n",
              " 452                -0.133680  \n",
              " 453                -0.084832  \n",
              " 454                 2.304125  \n",
              " \n",
              " [455 rows x 30 columns],\n",
              "      radius_mean  texture_mean  perimeter_mean  area_mean  smoothness_mean  \\\n",
              " 0       1.344479      1.274067        1.430240   1.209170        -0.413701   \n",
              " 1      -0.148930     -1.001652       -0.169947  -0.227903        -1.000491   \n",
              " 2       1.722662      0.560255        1.650101   1.728098        -0.363900   \n",
              " 3      -0.894254     -0.419765       -0.868705  -0.818218         0.023685   \n",
              " 4      -0.237264     -0.834389       -0.241102  -0.394290         0.812567   \n",
              " ..           ...           ...             ...        ...              ...   \n",
              " 109     0.132637      0.171545        0.088689   0.057370         0.153601   \n",
              " 110     0.232014     -0.627077        0.248188   0.070823         0.165149   \n",
              " 111    -0.220701     -0.577605       -0.281476  -0.305331        -1.239393   \n",
              " 112    -0.637531     -0.481016       -0.652441  -0.626023         1.873552   \n",
              " 113     0.198888     -1.053480        0.157046   0.063959        -1.123190   \n",
              " \n",
              "      compactness_mean  concavity_mean  concave points_mean  symmetry_mean  \\\n",
              " 0            2.083925        1.444347             1.240236       1.794196   \n",
              " 1           -0.572846       -0.598576            -0.642242      -0.095752   \n",
              " 2            0.123557        0.075476             0.693337      -0.730600   \n",
              " 3           -0.164852       -0.475425            -0.562570      -0.726951   \n",
              " 4            0.871422        0.305139             0.492774       0.451530   \n",
              " ..                ...             ...                  ...            ...   \n",
              " 109         -0.637266       -0.216492             0.058472      -0.847353   \n",
              " 110          0.554875       -0.176899             0.280398      -0.548172   \n",
              " 111         -0.915679       -0.849736            -0.893072      -0.613846   \n",
              " 112         -0.635415       -0.394539             0.597580       0.717874   \n",
              " 113         -0.387546       -0.441905            -0.453743      -0.478850   \n",
              " \n",
              "      fractal_dimension_mean  ...  radius_worst  texture_worst  \\\n",
              " 0                  0.062983  ...      1.553717       1.233167   \n",
              " 1                 -0.560971  ...     -0.369630      -1.024842   \n",
              " 2                 -1.036630  ...      1.598025       0.098321   \n",
              " 3                  0.153917  ...     -0.957711       0.121686   \n",
              " 4                  0.845023  ...     -0.170247      -0.432386   \n",
              " ..                      ...  ...           ...            ...   \n",
              " 109               -0.525996  ...      0.542701       0.850991   \n",
              " 110                0.798856  ...      0.077473      -0.892999   \n",
              " 111               -0.835174  ...     -0.331365      -0.681050   \n",
              " 112               -0.591749  ...     -0.800621      -1.133319   \n",
              " 113               -0.879942  ...      0.162060      -1.261824   \n",
              " \n",
              "      perimeter_worst  area_worst  smoothness_worst  compactness_worst  \\\n",
              " 0           2.010363    1.281406         -0.364360           3.094480   \n",
              " 1          -0.293798   -0.404936         -0.238450           0.329954   \n",
              " 2           1.540482    1.500257         -0.004619          -0.133773   \n",
              " 3          -0.918276   -0.828218          0.449553          -0.048417   \n",
              " 4          -0.331504   -0.476359          0.935202           1.404552   \n",
              " ..               ...         ...               ...                ...   \n",
              " 109         0.444091    0.411091          0.611436          -0.455452   \n",
              " 110         0.046722   -0.065801         -0.867996          -0.261171   \n",
              " 111        -0.415619   -0.393908         -0.517249          -0.579664   \n",
              " 112        -0.830391   -0.718113          0.139277          -1.114224   \n",
              " 113         0.113433    0.018516         -1.182769           0.130577   \n",
              " \n",
              "      concavity_worst  concave points_worst  symmetry_worst  \\\n",
              " 0           2.131711              2.000189        2.867750   \n",
              " 1          -0.097180             -0.170435        0.775438   \n",
              " 2          -0.033743              0.902055       -0.493321   \n",
              " 3          -0.309910             -0.272857       -1.015176   \n",
              " 4           0.994609              0.816075        1.003750   \n",
              " ..               ...                   ...             ...   \n",
              " 109         0.067375              0.666741        0.191613   \n",
              " 110        -0.437262             -0.224739       -1.197825   \n",
              " 111        -0.671932             -0.706379       -0.278056   \n",
              " 112        -0.981344             -0.410878       -1.127701   \n",
              " 113         0.180418             -0.030152       -0.364488   \n",
              " \n",
              "      fractal_dimension_worst  \n",
              " 0                   1.120278  \n",
              " 1                   0.693863  \n",
              " 2                  -0.974441  \n",
              " 3                  -0.087705  \n",
              " 4                   0.993848  \n",
              " ..                       ...  \n",
              " 109                -0.123336  \n",
              " 110                 0.068034  \n",
              " 111                -0.487685  \n",
              " 112                -1.377869  \n",
              " 113                -0.090579  \n",
              " \n",
              " [114 rows x 30 columns])"
            ]
          },
          "metadata": {
            "tags": []
          },
          "execution_count": 10
        }
      ]
    },
    {
      "cell_type": "code",
      "metadata": {
        "execution": {
          "iopub.execute_input": "2020-12-23T19:38:40.239706Z",
          "iopub.status.busy": "2020-12-23T19:38:40.239011Z",
          "iopub.status.idle": "2020-12-23T19:38:40.385994Z",
          "shell.execute_reply": "2020-12-23T19:38:40.385412Z"
        },
        "papermill": {
          "duration": 0.170506,
          "end_time": "2020-12-23T19:38:40.386116",
          "exception": false,
          "start_time": "2020-12-23T19:38:40.215610",
          "status": "completed"
        },
        "tags": [],
        "id": "YfwJ5owPDU5x",
        "outputId": "615aeb77-8f6f-4dc2-ab31-9b88dc302208"
      },
      "source": [
        "# Will use different Algorithms and observe their results\n",
        "# First we'll start with Linear Regression\n",
        "from sklearn.linear_model import LinearRegression, LogisticRegression\n",
        "from sklearn.metrics import mean_absolute_error\n",
        "lin_reg = LinearRegression()\n",
        "\n",
        "lin_reg.fit(X_train_transformed, y_train)\n",
        "y_predicted = lin_reg.predict(X_test_transformed)\n",
        "# print(y_predicted, y_test)\n",
        "print('MAE:', mean_absolute_error(y_test, y_predicted))\n",
        "lin_reg.score(X_test_transformed, y_test)"
      ],
      "execution_count": null,
      "outputs": [
        {
          "output_type": "stream",
          "text": [
            "MAE: 0.21262537668512135\n"
          ],
          "name": "stdout"
        },
        {
          "output_type": "execute_result",
          "data": {
            "text/plain": [
              "0.6739642496796303"
            ]
          },
          "metadata": {
            "tags": []
          },
          "execution_count": 11
        }
      ]
    },
    {
      "cell_type": "code",
      "metadata": {
        "execution": {
          "iopub.execute_input": "2020-12-23T19:38:40.454711Z",
          "iopub.status.busy": "2020-12-23T19:38:40.431149Z",
          "iopub.status.idle": "2020-12-23T19:38:40.459742Z",
          "shell.execute_reply": "2020-12-23T19:38:40.458949Z"
        },
        "papermill": {
          "duration": 0.055154,
          "end_time": "2020-12-23T19:38:40.459883",
          "exception": false,
          "start_time": "2020-12-23T19:38:40.404729",
          "status": "completed"
        },
        "tags": [],
        "id": "n-873HE_DU5x",
        "outputId": "0dc7ebaa-7eb0-4828-b72b-e8e9333f805a"
      },
      "source": [
        "# Logistic Regression\n",
        "log_reg = LogisticRegression()\n",
        "log_reg.fit(X_train_transformed, y_train)\n",
        "y_predicted = log_reg.predict(X_test_transformed)\n",
        "print('MAE:', mean_absolute_error(y_test, y_predicted))\n",
        "log_reg.score(X_test_transformed, y_test)"
      ],
      "execution_count": null,
      "outputs": [
        {
          "output_type": "stream",
          "text": [
            "MAE: 0.02631578947368421\n"
          ],
          "name": "stdout"
        },
        {
          "output_type": "execute_result",
          "data": {
            "text/plain": [
              "0.9736842105263158"
            ]
          },
          "metadata": {
            "tags": []
          },
          "execution_count": 12
        }
      ]
    },
    {
      "cell_type": "code",
      "metadata": {
        "execution": {
          "iopub.execute_input": "2020-12-23T19:38:40.509988Z",
          "iopub.status.busy": "2020-12-23T19:38:40.509070Z",
          "iopub.status.idle": "2020-12-23T19:38:40.876538Z",
          "shell.execute_reply": "2020-12-23T19:38:40.877371Z"
        },
        "papermill": {
          "duration": 0.3935,
          "end_time": "2020-12-23T19:38:40.877573",
          "exception": false,
          "start_time": "2020-12-23T19:38:40.484073",
          "status": "completed"
        },
        "tags": [],
        "id": "LA0EVAu3DU5x",
        "outputId": "2819d67c-5540-4616-ef10-9e3cecc106ab"
      },
      "source": [
        "# Random Forest Classifier\n",
        "from sklearn.ensemble import RandomForestClassifier\n",
        "rand_forest = RandomForestClassifier()\n",
        "rand_forest.fit(X_train_transformed, y_train)\n",
        "y_predicted = rand_forest.predict(X_test_transformed)\n",
        "print('MAE:', mean_absolute_error(y_test, y_predicted))\n",
        "rand_forest.score(X_test_transformed, y_test)"
      ],
      "execution_count": null,
      "outputs": [
        {
          "output_type": "stream",
          "text": [
            "MAE: 0.05263157894736842\n"
          ],
          "name": "stdout"
        },
        {
          "output_type": "execute_result",
          "data": {
            "text/plain": [
              "0.9473684210526315"
            ]
          },
          "metadata": {
            "tags": []
          },
          "execution_count": 13
        }
      ]
    },
    {
      "cell_type": "code",
      "metadata": {
        "execution": {
          "iopub.execute_input": "2020-12-23T19:38:40.926971Z",
          "iopub.status.busy": "2020-12-23T19:38:40.926306Z",
          "iopub.status.idle": "2020-12-23T19:38:41.342772Z",
          "shell.execute_reply": "2020-12-23T19:38:41.342220Z"
        },
        "papermill": {
          "duration": 0.44486,
          "end_time": "2020-12-23T19:38:41.342891",
          "exception": false,
          "start_time": "2020-12-23T19:38:40.898031",
          "status": "completed"
        },
        "tags": [],
        "id": "F3kALakpDU5y",
        "outputId": "2b87142a-2be1-4f18-f4e8-45589cd9790d"
      },
      "source": [
        "# Gradient Boosting Classifier\n",
        "from sklearn.ensemble import GradientBoostingClassifier\n",
        "grad_boost_clf = GradientBoostingClassifier()\n",
        "grad_boost_clf.fit(X_train_transformed, y_train)\n",
        "y_predicted = grad_boost_clf.predict(X_test_transformed)\n",
        "print('MAE:', mean_absolute_error(y_test, y_predicted))\n",
        "grad_boost_clf.score(X_test_transformed, y_test)"
      ],
      "execution_count": null,
      "outputs": [
        {
          "output_type": "stream",
          "text": [
            "MAE: 0.05263157894736842\n"
          ],
          "name": "stdout"
        },
        {
          "output_type": "execute_result",
          "data": {
            "text/plain": [
              "0.9473684210526315"
            ]
          },
          "metadata": {
            "tags": []
          },
          "execution_count": 14
        }
      ]
    },
    {
      "cell_type": "code",
      "metadata": {
        "execution": {
          "iopub.execute_input": "2020-12-23T19:38:41.391413Z",
          "iopub.status.busy": "2020-12-23T19:38:41.390618Z",
          "iopub.status.idle": "2020-12-23T19:38:41.395144Z",
          "shell.execute_reply": "2020-12-23T19:38:41.394503Z"
        },
        "papermill": {
          "duration": 0.031173,
          "end_time": "2020-12-23T19:38:41.395256",
          "exception": false,
          "start_time": "2020-12-23T19:38:41.364083",
          "status": "completed"
        },
        "tags": [],
        "id": "uwdyRvmJDU5y",
        "outputId": "650c665e-1e46-4290-8c22-8b5db8cfebb7"
      },
      "source": [
        "\"\"\"We can observe that Logistic Regression \n",
        "yield better results and have very low margin for error\"\"\" "
      ],
      "execution_count": null,
      "outputs": [
        {
          "output_type": "execute_result",
          "data": {
            "text/plain": [
              "'We can observe that Logistic Regression \\nyield better results and have very low margin for error'"
            ]
          },
          "metadata": {
            "tags": []
          },
          "execution_count": 15
        }
      ]
    }
  ]
}
